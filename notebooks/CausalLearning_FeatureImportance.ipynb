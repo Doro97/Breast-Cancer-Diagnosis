{
 "cells": [
  {
   "cell_type": "code",
   "execution_count": 31,
   "id": "ffe4842e",
   "metadata": {},
   "outputs": [],
   "source": [
    "import pandas as pd\n",
    "import numpy as np\n",
    "from sklearn.model_selection import cross_val_score\n",
    "from sklearn.ensemble import RandomForestRegressor\n",
    "import matplotlib.pyplot as plt\n",
    "import seaborn as sns\n",
    "%matplotlib inline\n"
   ]
  },
  {
   "cell_type": "markdown",
   "id": "9496f214",
   "metadata": {},
   "source": [
    "# Configuration"
   ]
  },
  {
   "cell_type": "code",
   "execution_count": 32,
   "id": "afbf4503",
   "metadata": {},
   "outputs": [],
   "source": [
    "import matplotlib as mpl\n",
    "mpl.rcParams['figure.figsize'] = (16, 6)"
   ]
  },
  {
   "cell_type": "markdown",
   "id": "ab599d7e",
   "metadata": {},
   "source": [
    "# Load  the Data"
   ]
  },
  {
   "cell_type": "code",
   "execution_count": 3,
   "id": "654d861c",
   "metadata": {},
   "outputs": [
    {
     "data": {
      "text/html": [
       "<div>\n",
       "<style scoped>\n",
       "    .dataframe tbody tr th:only-of-type {\n",
       "        vertical-align: middle;\n",
       "    }\n",
       "\n",
       "    .dataframe tbody tr th {\n",
       "        vertical-align: top;\n",
       "    }\n",
       "\n",
       "    .dataframe thead th {\n",
       "        text-align: right;\n",
       "    }\n",
       "</style>\n",
       "<table border=\"1\" class=\"dataframe\">\n",
       "  <thead>\n",
       "    <tr style=\"text-align: right;\">\n",
       "      <th></th>\n",
       "      <th>Unnamed: 0</th>\n",
       "      <th>diagnosis</th>\n",
       "      <th>radius_mean</th>\n",
       "      <th>texture_mean</th>\n",
       "      <th>perimeter_mean</th>\n",
       "      <th>area_mean</th>\n",
       "      <th>smoothness_mean</th>\n",
       "      <th>compactness_mean</th>\n",
       "      <th>concavity_mean</th>\n",
       "      <th>concave points_mean</th>\n",
       "      <th>...</th>\n",
       "      <th>radius_worst</th>\n",
       "      <th>texture_worst</th>\n",
       "      <th>perimeter_worst</th>\n",
       "      <th>area_worst</th>\n",
       "      <th>smoothness_worst</th>\n",
       "      <th>compactness_worst</th>\n",
       "      <th>concavity_worst</th>\n",
       "      <th>concave points_worst</th>\n",
       "      <th>symmetry_worst</th>\n",
       "      <th>fractal_dimension_worst</th>\n",
       "    </tr>\n",
       "  </thead>\n",
       "  <tbody>\n",
       "    <tr>\n",
       "      <th>0</th>\n",
       "      <td>6</td>\n",
       "      <td>1</td>\n",
       "      <td>18.25</td>\n",
       "      <td>19.98</td>\n",
       "      <td>119.6</td>\n",
       "      <td>1040.0</td>\n",
       "      <td>0.09463</td>\n",
       "      <td>0.10900</td>\n",
       "      <td>0.11270</td>\n",
       "      <td>0.07400</td>\n",
       "      <td>...</td>\n",
       "      <td>22.88</td>\n",
       "      <td>27.66</td>\n",
       "      <td>153.2</td>\n",
       "      <td>1606.0</td>\n",
       "      <td>0.1442</td>\n",
       "      <td>0.2576</td>\n",
       "      <td>0.3784</td>\n",
       "      <td>0.19320</td>\n",
       "      <td>0.3063</td>\n",
       "      <td>0.08368</td>\n",
       "    </tr>\n",
       "    <tr>\n",
       "      <th>1</th>\n",
       "      <td>7</td>\n",
       "      <td>1</td>\n",
       "      <td>13.71</td>\n",
       "      <td>20.83</td>\n",
       "      <td>90.2</td>\n",
       "      <td>577.9</td>\n",
       "      <td>0.11890</td>\n",
       "      <td>0.16450</td>\n",
       "      <td>0.09366</td>\n",
       "      <td>0.05985</td>\n",
       "      <td>...</td>\n",
       "      <td>17.06</td>\n",
       "      <td>28.14</td>\n",
       "      <td>110.6</td>\n",
       "      <td>897.0</td>\n",
       "      <td>0.1654</td>\n",
       "      <td>0.3682</td>\n",
       "      <td>0.2678</td>\n",
       "      <td>0.15560</td>\n",
       "      <td>0.3196</td>\n",
       "      <td>0.11510</td>\n",
       "    </tr>\n",
       "    <tr>\n",
       "      <th>2</th>\n",
       "      <td>10</td>\n",
       "      <td>1</td>\n",
       "      <td>16.02</td>\n",
       "      <td>23.24</td>\n",
       "      <td>102.7</td>\n",
       "      <td>797.8</td>\n",
       "      <td>0.08206</td>\n",
       "      <td>0.06669</td>\n",
       "      <td>0.03299</td>\n",
       "      <td>0.03323</td>\n",
       "      <td>...</td>\n",
       "      <td>19.19</td>\n",
       "      <td>33.88</td>\n",
       "      <td>123.8</td>\n",
       "      <td>1150.0</td>\n",
       "      <td>0.1181</td>\n",
       "      <td>0.1551</td>\n",
       "      <td>0.1459</td>\n",
       "      <td>0.09975</td>\n",
       "      <td>0.2948</td>\n",
       "      <td>0.08452</td>\n",
       "    </tr>\n",
       "    <tr>\n",
       "      <th>3</th>\n",
       "      <td>11</td>\n",
       "      <td>1</td>\n",
       "      <td>15.78</td>\n",
       "      <td>17.89</td>\n",
       "      <td>103.6</td>\n",
       "      <td>781.0</td>\n",
       "      <td>0.09710</td>\n",
       "      <td>0.12920</td>\n",
       "      <td>0.09954</td>\n",
       "      <td>0.06606</td>\n",
       "      <td>...</td>\n",
       "      <td>20.42</td>\n",
       "      <td>27.28</td>\n",
       "      <td>136.5</td>\n",
       "      <td>1299.0</td>\n",
       "      <td>0.1396</td>\n",
       "      <td>0.5609</td>\n",
       "      <td>0.3965</td>\n",
       "      <td>0.18100</td>\n",
       "      <td>0.3792</td>\n",
       "      <td>0.10480</td>\n",
       "    </tr>\n",
       "    <tr>\n",
       "      <th>4</th>\n",
       "      <td>13</td>\n",
       "      <td>1</td>\n",
       "      <td>15.85</td>\n",
       "      <td>23.95</td>\n",
       "      <td>103.7</td>\n",
       "      <td>782.7</td>\n",
       "      <td>0.08401</td>\n",
       "      <td>0.10020</td>\n",
       "      <td>0.09938</td>\n",
       "      <td>0.05364</td>\n",
       "      <td>...</td>\n",
       "      <td>16.84</td>\n",
       "      <td>27.66</td>\n",
       "      <td>112.0</td>\n",
       "      <td>876.5</td>\n",
       "      <td>0.1131</td>\n",
       "      <td>0.1924</td>\n",
       "      <td>0.2322</td>\n",
       "      <td>0.11190</td>\n",
       "      <td>0.2809</td>\n",
       "      <td>0.06287</td>\n",
       "    </tr>\n",
       "  </tbody>\n",
       "</table>\n",
       "<p>5 rows × 32 columns</p>\n",
       "</div>"
      ],
      "text/plain": [
       "   Unnamed: 0  diagnosis  radius_mean  texture_mean  perimeter_mean  \\\n",
       "0           6          1        18.25         19.98           119.6   \n",
       "1           7          1        13.71         20.83            90.2   \n",
       "2          10          1        16.02         23.24           102.7   \n",
       "3          11          1        15.78         17.89           103.6   \n",
       "4          13          1        15.85         23.95           103.7   \n",
       "\n",
       "   area_mean  smoothness_mean  compactness_mean  concavity_mean  \\\n",
       "0     1040.0          0.09463           0.10900         0.11270   \n",
       "1      577.9          0.11890           0.16450         0.09366   \n",
       "2      797.8          0.08206           0.06669         0.03299   \n",
       "3      781.0          0.09710           0.12920         0.09954   \n",
       "4      782.7          0.08401           0.10020         0.09938   \n",
       "\n",
       "   concave points_mean  ...  radius_worst  texture_worst  perimeter_worst  \\\n",
       "0              0.07400  ...         22.88          27.66            153.2   \n",
       "1              0.05985  ...         17.06          28.14            110.6   \n",
       "2              0.03323  ...         19.19          33.88            123.8   \n",
       "3              0.06606  ...         20.42          27.28            136.5   \n",
       "4              0.05364  ...         16.84          27.66            112.0   \n",
       "\n",
       "   area_worst  smoothness_worst  compactness_worst  concavity_worst  \\\n",
       "0      1606.0            0.1442             0.2576           0.3784   \n",
       "1       897.0            0.1654             0.3682           0.2678   \n",
       "2      1150.0            0.1181             0.1551           0.1459   \n",
       "3      1299.0            0.1396             0.5609           0.3965   \n",
       "4       876.5            0.1131             0.1924           0.2322   \n",
       "\n",
       "   concave points_worst  symmetry_worst  fractal_dimension_worst  \n",
       "0               0.19320          0.3063                  0.08368  \n",
       "1               0.15560          0.3196                  0.11510  \n",
       "2               0.09975          0.2948                  0.08452  \n",
       "3               0.18100          0.3792                  0.10480  \n",
       "4               0.11190          0.2809                  0.06287  \n",
       "\n",
       "[5 rows x 32 columns]"
      ]
     },
     "execution_count": 3,
     "metadata": {},
     "output_type": "execute_result"
    }
   ],
   "source": [
    "df=pd.read_csv('BreastCancer_processed.csv')\n",
    "df.head()"
   ]
  },
  {
   "cell_type": "code",
   "execution_count": 4,
   "id": "c2ddc8ea",
   "metadata": {},
   "outputs": [],
   "source": [
    "df=df.drop(columns='Unnamed: 0')\n",
    "df = df.rename(columns={'concave points_se': 'concave_points_se', 'concave points_worst': 'concave_points_worst','concave points_mean': 'concave_points_mean'})"
   ]
  },
  {
   "cell_type": "code",
   "execution_count": null,
   "id": "14a45493",
   "metadata": {},
   "outputs": [],
   "source": []
  },
  {
   "cell_type": "code",
   "execution_count": 15,
   "id": "95e37c52",
   "metadata": {},
   "outputs": [],
   "source": [
    "#segregate the data into separate variables so that the features and the labels are separated.\n",
    "X=df.drop(columns='diagnosis')\n",
    "y=df[['diagnosis']]"
   ]
  },
  {
   "cell_type": "markdown",
   "id": "71e611c0",
   "metadata": {},
   "source": [
    "# Split the data"
   ]
  },
  {
   "cell_type": "code",
   "execution_count": 37,
   "id": "4c06d74b",
   "metadata": {},
   "outputs": [],
   "source": [
    "from sklearn.model_selection import train_test_split\n",
    "X_train, X_test, y_train, y_test = train_test_split(X, y, test_size=0.80)"
   ]
  },
  {
   "cell_type": "markdown",
   "id": "5de4cf87",
   "metadata": {},
   "source": [
    "# Train a Random Forest Regressor"
   ]
  },
  {
   "cell_type": "code",
   "execution_count": 53,
   "id": "0edadf99",
   "metadata": {},
   "outputs": [
    {
     "name": "stderr",
     "output_type": "stream",
     "text": [
      "C:\\Users\\USER~1.DES\\AppData\\Local\\Temp/ipykernel_17184/2440202584.py:3: DataConversionWarning: A column-vector y was passed when a 1d array was expected. Please change the shape of y to (n_samples,), for example using ravel().\n",
      "  clf.fit(X_train, y_train)\n"
     ]
    }
   ],
   "source": [
    "from sklearn.ensemble import RandomForestClassifier\n",
    "clf = RandomForestClassifier(n_estimators=100,random_state=0)\n",
    "clf.fit(X_train, y_train)\n"
   ]
  },
  {
   "cell_type": "markdown",
   "id": "69acc3d7",
   "metadata": {},
   "source": [
    "# Obtain feature importance"
   ]
  },
  {
   "cell_type": "code",
   "execution_count": 42,
   "id": "33743b12",
   "metadata": {},
   "outputs": [
    {
     "data": {
      "text/plain": [
       "perimeter_worst            0.172052\n",
       "radius_worst               0.104356\n",
       "concave_points_worst       0.092309\n",
       "concavity_mean             0.078287\n",
       "area_worst                 0.074312\n",
       "area_se                    0.061402\n",
       "perimeter_mean             0.054728\n",
       "concavity_worst            0.043069\n",
       "area_mean                  0.041615\n",
       "radius_mean                0.038509\n",
       "radius_se                  0.036386\n",
       "perimeter_se               0.027097\n",
       "texture_mean               0.021739\n",
       "concave_points_mean        0.017968\n",
       "texture_worst              0.016412\n",
       "compactness_worst          0.015271\n",
       "smoothness_worst           0.011597\n",
       "symmetry_mean              0.011242\n",
       "symmetry_worst             0.011030\n",
       "fractal_dimension_worst    0.010061\n",
       "symmetry_se                0.009656\n",
       "compactness_se             0.007724\n",
       "compactness_mean           0.007340\n",
       "texture_se                 0.006649\n",
       "smoothness_se              0.006374\n",
       "fractal_dimension_mean     0.006353\n",
       "concavity_se               0.006319\n",
       "concave_points_se          0.004664\n",
       "smoothness_mean            0.004126\n",
       "fractal_dimension_se       0.001354\n",
       "dtype: float64"
      ]
     },
     "execution_count": 42,
     "metadata": {},
     "output_type": "execute_result"
    }
   ],
   "source": [
    "# view the feature scores\n",
    "\n",
    "feature_scores = pd.Series(clf.feature_importances_, index=X_train.columns).sort_values(ascending=False)\n",
    "\n",
    "feature_scores"
   ]
  },
  {
   "cell_type": "code",
   "execution_count": 44,
   "id": "624a59dc",
   "metadata": {},
   "outputs": [
    {
     "data": {
      "image/png": "[encoded data removed]",
      "text/plain": [
       "<Figure size 1152x432 with 1 Axes>"
      ]
     },
     "metadata": {
      "needs_background": "light"
     },
     "output_type": "display_data"
    }
   ],
   "source": [
    "feature_scores.plot(kind='bar');"
   ]
  },
  {
   "cell_type": "code",
   "execution_count": 54,
   "id": "e335fefa",
   "metadata": {},
   "outputs": [
    {
     "name": "stdout",
     "output_type": "stream",
     "text": [
      "              precision    recall  f1-score   support\n",
      "\n",
      "           0       0.95      0.97      0.96       241\n",
      "           1       0.89      0.85      0.87        78\n",
      "\n",
      "    accuracy                           0.94       319\n",
      "   macro avg       0.92      0.91      0.91       319\n",
      "weighted avg       0.94      0.94      0.94       319\n",
      "\n"
     ]
    }
   ],
   "source": [
    "# performance\n",
    "from sklearn.metrics import classification_report\n",
    "# Predict on the test set results\n",
    "y_pred = clf.predict(X_test)\n",
    "\n",
    "print(classification_report(y_test, y_pred))"
   ]
  },
  {
   "cell_type": "markdown",
   "id": "e4cbd521",
   "metadata": {},
   "source": [
    "# Train using the DecisionTreeClassifier"
   ]
  },
  {
   "cell_type": "code",
   "execution_count": 58,
   "id": "0ffe3730",
   "metadata": {},
   "outputs": [
    {
     "name": "stdout",
     "output_type": "stream",
     "text": [
      "              precision    recall  f1-score   support\n",
      "\n",
      "           0       0.92      0.96      0.94       241\n",
      "           1       0.86      0.73      0.79        78\n",
      "\n",
      "    accuracy                           0.91       319\n",
      "   macro avg       0.89      0.85      0.87       319\n",
      "weighted avg       0.90      0.91      0.90       319\n",
      "\n"
     ]
    }
   ],
   "source": [
    "# decision tree\n",
    "from sklearn.tree import DecisionTreeClassifier\n",
    "from sklearn.metrics import accuracy_score,classification_report,confusion_matrix\n",
    "\n",
    "\n",
    "tree=DecisionTreeClassifier(max_depth=100,random_state=0)\n",
    "tree.fit(X_train,y_train)\n",
    "\n",
    "#measures accuracy\n",
    "predictions=tree.predict(X_test)\n",
    "score=accuracy_score(y_test,predictions)\n",
    "print(classification_report(y_test, predictions))"
   ]
  },
  {
   "cell_type": "code",
   "execution_count": 56,
   "id": "974c35da",
   "metadata": {},
   "outputs": [
    {
     "data": {
      "text/plain": [
       "perimeter_worst            0.652856\n",
       "smoothness_worst           0.183295\n",
       "texture_worst              0.100424\n",
       "symmetry_mean              0.063426\n",
       "radius_mean                0.000000\n",
       "concavity_se               0.000000\n",
       "symmetry_worst             0.000000\n",
       "concave_points_worst       0.000000\n",
       "concavity_worst            0.000000\n",
       "compactness_worst          0.000000\n",
       "area_worst                 0.000000\n",
       "radius_worst               0.000000\n",
       "fractal_dimension_se       0.000000\n",
       "symmetry_se                0.000000\n",
       "concave_points_se          0.000000\n",
       "compactness_se             0.000000\n",
       "texture_mean               0.000000\n",
       "smoothness_se              0.000000\n",
       "area_se                    0.000000\n",
       "perimeter_se               0.000000\n",
       "texture_se                 0.000000\n",
       "radius_se                  0.000000\n",
       "fractal_dimension_mean     0.000000\n",
       "concave_points_mean        0.000000\n",
       "concavity_mean             0.000000\n",
       "compactness_mean           0.000000\n",
       "smoothness_mean            0.000000\n",
       "area_mean                  0.000000\n",
       "perimeter_mean             0.000000\n",
       "fractal_dimension_worst    0.000000\n",
       "dtype: float64"
      ]
     },
     "execution_count": 56,
     "metadata": {},
     "output_type": "execute_result"
    }
   ],
   "source": [
    "# view the feature scores\n",
    "\n",
    "feature_scores_tr = pd.Series( tree.feature_importances_, index=X_train.columns).sort_values(ascending=False)\n",
    "\n",
    "feature_scores_tr\n"
   ]
  },
  {
   "cell_type": "code",
   "execution_count": 57,
   "id": "181feca8",
   "metadata": {},
   "outputs": [
    {
     "data": {
      "image/png": "[encoded data removed]",
      "text/plain": [
       "<Figure size 1152x432 with 1 Axes>"
      ]
     },
     "metadata": {
      "needs_background": "light"
     },
     "output_type": "display_data"
    }
   ],
   "source": [
    "feature_scores_tr.plot(kind='bar');"
   ]
  },
  {
   "cell_type": "markdown",
   "id": "c9abdd14",
   "metadata": {},
   "source": [
    "# Train using the Logistic Linear Regression"
   ]
  },
  {
   "cell_type": "code",
   "execution_count": 59,
   "id": "3e22659b",
   "metadata": {},
   "outputs": [
    {
     "name": "stderr",
     "output_type": "stream",
     "text": [
      "C:\\Users\\user.DESKTOP-OMQ89VA\\anaconda3\\envs\\environment_name\\lib\\site-packages\\sklearn\\utils\\validation.py:63: DataConversionWarning: A column-vector y was passed when a 1d array was expected. Please change the shape of y to (n_samples, ), for example using ravel().\n",
      "  return f(*args, **kwargs)\n",
      "C:\\Users\\user.DESKTOP-OMQ89VA\\anaconda3\\envs\\environment_name\\lib\\site-packages\\sklearn\\linear_model\\_logistic.py:763: ConvergenceWarning: lbfgs failed to converge (status=1):\n",
      "STOP: TOTAL NO. of ITERATIONS REACHED LIMIT.\n",
      "\n",
      "Increase the number of iterations (max_iter) or scale the data as shown in:\n",
      "    https://scikit-learn.org/stable/modules/preprocessing.html\n",
      "Please also refer to the documentation for alternative solver options:\n",
      "    https://scikit-learn.org/stable/modules/linear_model.html#logistic-regression\n",
      "  n_iter_i = _check_optimize_result(\n"
     ]
    },
    {
     "data": {
      "text/plain": [
       "LogisticRegression()"
      ]
     },
     "execution_count": 59,
     "metadata": {},
     "output_type": "execute_result"
    }
   ],
   "source": [
    "from sklearn.linear_model import LogisticRegression\n",
    "from sklearn.metrics import precision_score,accuracy_score,f1_score,recall_score\n",
    "\n",
    "lr = LogisticRegression()\n",
    "lr.fit(X_train,y_train)\n"
   ]
  },
  {
   "cell_type": "code",
   "execution_count": 60,
   "id": "8a2401a0",
   "metadata": {},
   "outputs": [
    {
     "name": "stdout",
     "output_type": "stream",
     "text": [
      "              precision    recall  f1-score   support\n",
      "\n",
      "           0       0.94      0.98      0.96       241\n",
      "           1       0.93      0.81      0.86        78\n",
      "\n",
      "    accuracy                           0.94       319\n",
      "   macro avg       0.93      0.89      0.91       319\n",
      "weighted avg       0.94      0.94      0.94       319\n",
      "\n"
     ]
    }
   ],
   "source": [
    "#measures accuracy\n",
    "predictions=lr.predict(X_test)\n",
    "score=accuracy_score(y_test,predictions)\n",
    "print(classification_report(y_test, predictions))"
   ]
  },
  {
   "cell_type": "code",
   "execution_count": 63,
   "id": "abfe4d08",
   "metadata": {},
   "outputs": [
    {
     "data": {
      "text/plain": [
       "texture_worst              0.580741\n",
       "concavity_worst            0.268777\n",
       "compactness_worst          0.166594\n",
       "perimeter_worst            0.126025\n",
       "area_se                    0.098926\n",
       "concavity_mean             0.095988\n",
       "concave_points_worst       0.079935\n",
       "texture_se                 0.069232\n",
       "area_worst                 0.058915\n",
       "compactness_mean           0.056798\n",
       "concave_points_mean        0.041902\n",
       "symmetry_worst             0.030369\n",
       "smoothness_worst           0.025748\n",
       "symmetry_mean              0.021472\n",
       "concavity_se               0.019734\n",
       "fractal_dimension_worst    0.013985\n",
       "compactness_se             0.011892\n",
       "smoothness_mean            0.009250\n",
       "concave_points_se          0.005588\n",
       "fractal_dimension_mean     0.002117\n",
       "smoothness_se              0.001531\n",
       "fractal_dimension_se       0.001514\n",
       "symmetry_se               -0.000302\n",
       "area_mean                 -0.009411\n",
       "radius_se                 -0.022425\n",
       "perimeter_se              -0.104696\n",
       "radius_mean               -0.462552\n",
       "perimeter_mean            -0.517968\n",
       "texture_mean              -0.541646\n",
       "radius_worst              -0.623515\n",
       "dtype: float64"
      ]
     },
     "execution_count": 63,
     "metadata": {},
     "output_type": "execute_result"
    }
   ],
   "source": [
    "# view the feature scores\n",
    "\n",
    "feature_scores_lr = pd.Series( lr.coef_[0], index=X_train.columns).sort_values(ascending=False)\n",
    "\n",
    "feature_scores_lr\n"
   ]
  },
  {
   "cell_type": "code",
   "execution_count": 64,
   "id": "34984145",
   "metadata": {},
   "outputs": [
    {
     "data": {
      "image/png": "[encoded data removed]",
      "text/plain": [
       "<Figure size 1152x432 with 1 Axes>"
      ]
     },
     "metadata": {
      "needs_background": "light"
     },
     "output_type": "display_data"
    }
   ],
   "source": [
    "feature_scores_lr.plot(kind='bar');"
   ]
  },
  {
   "cell_type": "markdown",
   "id": "78e3014c",
   "metadata": {},
   "source": [
    "# Selecting the most important features from the best model"
   ]
  },
  {
   "cell_type": "markdown",
   "id": "4b7aa2bc",
   "metadata": {},
   "source": [
    "### The best 15 features according to the Random forest classifier have been selected"
   ]
  },
  {
   "cell_type": "code",
   "execution_count": 68,
   "id": "918c5df0",
   "metadata": {},
   "outputs": [],
   "source": [
    "best_df=df[['diagnosis','perimeter_worst','radius_worst','concave_points_worst',\n",
    "          'concavity_mean','area_worst','area_se','perimeter_mean','concavity_worst',\n",
    "         'area_mean','radius_mean','radius_se','perimeter_se','texture_mean','concave_points_mean','texture_worst']].copy()"
   ]
  },
  {
   "cell_type": "code",
   "execution_count": 70,
   "id": "81da4add",
   "metadata": {},
   "outputs": [],
   "source": [
    "best_df.to_csv('best_features.csv')"
   ]
  },
  {
   "cell_type": "markdown",
   "id": "01b03f27",
   "metadata": {},
   "source": [
    "# Selecting the least important features from the best model\n",
    "\n",
    "### The least important 15 features according to the Random forest classifier have been selected"
   ]
  },
  {
   "cell_type": "code",
   "execution_count": 71,
   "id": "0407ed5e",
   "metadata": {},
   "outputs": [],
   "source": [
    "worst_df=df[['compactness_worst','smoothness_worst','symmetry_mean','symmetry_worst','fractal_dimension_worst','symmetry_se',\n",
    "            'compactness_se','compactness_mean','texture_se','smoothness_se','fractal_dimension_mean',\n",
    "            'concavity_se','concave_points_se','smoothness_mean','fractal_dimension_se']].copy()"
   ]
  },
  {
   "cell_type": "code",
   "execution_count": 73,
   "id": "bf043d51",
   "metadata": {},
   "outputs": [],
   "source": [
    "worst_df.to_csv('worst_features.csv')"
   ]
  },
  {
   "cell_type": "code",
   "execution_count": null,
   "id": "e72302e3",
   "metadata": {},
   "outputs": [],
   "source": []
  }
 ],
 "metadata": {
  "kernelspec": {
   "display_name": "Python 3 (ipykernel)",
   "language": "python",
   "name": "python3"
  },
  "language_info": {
   "codemirror_mode": {
    "name": "ipython",
    "version": 3
   },
   "file_extension": ".py",
   "mimetype": "text/x-python",
   "name": "python",
   "nbconvert_exporter": "python",
   "pygments_lexer": "ipython3",
   "version": "3.8.10"
  }
 },
 "nbformat": 4,
 "nbformat_minor": 5
}
